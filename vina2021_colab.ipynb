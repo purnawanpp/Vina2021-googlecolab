{
  "nbformat": 4,
  "nbformat_minor": 0,
  "metadata": {
    "colab": {
      "name": "vina2021_colab.ipynb",
      "provenance": [],
      "collapsed_sections": []
    },
    "kernelspec": {
      "name": "python3",
      "display_name": "Python 3"
    },
    "language_info": {
      "name": "python"
    }
  },
  "cells": [
    {
      "cell_type": "code",
      "execution_count": 5,
      "metadata": {
        "id": "CaSTY_gDZUCK"
      },
      "outputs": [],
      "source": [
        "alias vina /content/vina"
      ]
    },
    {
      "cell_type": "code",
      "execution_count": 6,
      "metadata": {
        "id": "SAHyItK7lS1e"
      },
      "outputs": [],
      "source": [
        "alias vina_split /content/vina_split"
      ]
    },
    {
      "cell_type": "code",
      "source": [
        "!chmod 755 -R /content/vina"
      ],
      "metadata": {
        "id": "M83Q5XXTayz_"
      },
      "execution_count": 7,
      "outputs": []
    },
    {
      "cell_type": "code",
      "source": [
        "!chmod 755 -R /content/vina_split"
      ],
      "metadata": {
        "colab": {
          "base_uri": "https://localhost:8080/"
        },
        "id": "vyPT13CJltrf",
        "outputId": "4ef2e8e6-d877-4d60-f290-0b2fd90cf0f4"
      },
      "execution_count": 8,
      "outputs": [
        {
          "output_type": "stream",
          "name": "stdout",
          "text": [
            "chmod: cannot access '/content/vina_split': No such file or directory\n"
          ]
        }
      ]
    },
    {
      "cell_type": "code",
      "source": [
        "%vina_split"
      ],
      "metadata": {
        "colab": {
          "base_uri": "https://localhost:8080/"
        },
        "id": "q4oeYCdUmM7O",
        "outputId": "8edf6bc6-d1f0-4de2-83d9-5ee1fcdb7978"
      },
      "execution_count": 9,
      "outputs": [
        {
          "output_type": "stream",
          "name": "stdout",
          "text": [
            "/bin/bash: /content/vina_split: No such file or directory\n"
          ]
        }
      ]
    },
    {
      "cell_type": "code",
      "source": [
        "%vina"
      ],
      "metadata": {
        "colab": {
          "base_uri": "https://localhost:8080/"
        },
        "id": "WXK42fRRZtyT",
        "outputId": "dae2db79-a038-4dae-e7f8-7964d4d4ab02"
      },
      "execution_count": 4,
      "outputs": [
        {
          "output_type": "stream",
          "name": "stderr",
          "text": [
            "UsageError: Line magic function `%vina` not found.\n"
          ]
        }
      ]
    },
    {
      "cell_type": "code",
      "source": [
        "%vina --receptor /content/6pib_protein.pdbqt --ligand /content/6pib_ligand.pdbqt --config /content/grid.txt --exhaustiveness=8 --out 6pib_vina_out.pdbqt"
      ],
      "metadata": {
        "colab": {
          "base_uri": "https://localhost:8080/"
        },
        "id": "OvzHpmTkfuhm",
        "outputId": "e971f72d-3f5d-4ea9-cd77-78cd1540065c"
      },
      "execution_count": 14,
      "outputs": [
        {
          "output_type": "stream",
          "name": "stdout",
          "text": [
            "AutoDock Vina v1.2.3\n",
            "#################################################################\n",
            "# If you used AutoDock Vina in your work, please cite:          #\n",
            "#                                                               #\n",
            "# J. Eberhardt, D. Santos-Martins, A. F. Tillack, and S. Forli  #\n",
            "# AutoDock Vina 1.2.0: New Docking Methods, Expanded Force      #\n",
            "# Field, and Python Bindings, J. Chem. Inf. Model. (2021)       #\n",
            "# DOI 10.1021/acs.jcim.1c00203                                  #\n",
            "#                                                               #\n",
            "# O. Trott, A. J. Olson,                                        #\n",
            "# AutoDock Vina: improving the speed and accuracy of docking    #\n",
            "# with a new scoring function, efficient optimization and       #\n",
            "# multithreading, J. Comp. Chem. (2010)                         #\n",
            "# DOI 10.1002/jcc.21334                                         #\n",
            "#                                                               #\n",
            "# Please see https://github.com/ccsb-scripps/AutoDock-Vina for  #\n",
            "# more information.                                             #\n",
            "#################################################################\n",
            "\n",
            "Scoring function : vina\n",
            "Rigid receptor: /content/6pib_protein.pdbqt\n",
            "Ligand: /content/6pib_ligand.pdbqt\n",
            "Grid center: X -11.026 Y -36.565 Z -4.881\n",
            "Grid size  : X 40 Y 40 Z 40\n",
            "Grid space : 0.375\n",
            "Exhaustiveness: 8\n",
            "CPU: 0\n",
            "Verbosity: 1\n",
            "\n",
            "WARNING: Search space volume is greater than 27000 Angstrom^3 (See FAQ)\n",
            "Computing Vina grid ... done.\n",
            "Performing docking (random seed: -1743619927) ... \n",
            "0%   10   20   30   40   50   60   70   80   90   100%\n",
            "|----|----|----|----|----|----|----|----|----|----|\n",
            "***************************************************\n",
            "\n",
            "mode |   affinity | dist from best mode\n",
            "     | (kcal/mol) | rmsd l.b.| rmsd u.b.\n",
            "-----+------------+----------+----------\n",
            "   1       -10.47          0          0\n",
            "   2       -9.971      1.642      2.039\n",
            "   3       -9.928      5.646      9.559\n",
            "   4       -9.889      9.462      11.69\n",
            "   5        -9.86      4.957      9.299\n",
            "   6       -9.371      3.636      5.677\n",
            "   7       -9.337      5.628      10.66\n",
            "   8       -9.289      6.722      8.164\n",
            "   9       -8.934      4.322      9.241\n"
          ]
        }
      ]
    }
  ]
}