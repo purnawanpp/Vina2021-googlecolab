{
  "nbformat": 4,
  "nbformat_minor": 0,
  "metadata": {
    "colab": {
      "name": "vina2021_colab.ipynb",
      "provenance": [],
      "collapsed_sections": []
    },
    "kernelspec": {
      "name": "python3",
      "display_name": "Python 3"
    },
    "language_info": {
      "name": "python"
    }
  },
  "cells": [
    {
      "cell_type": "code",
      "execution_count": null,
      "metadata": {
        "id": "CaSTY_gDZUCK"
      },
      "outputs": [],
      "source": [
        "alias vina /content/vina"
      ]
    },
    {
      "cell_type": "code",
      "execution_count": null,
      "metadata": {
        "id": "SAHyItK7lS1e"
      },
      "outputs": [],
      "source": [
        "alias vina_split /content/vina_split"
      ]
    },
    {
      "cell_type": "code",
      "source": [
        "!chmod 755 -R /content/vina"
      ],
      "metadata": {
        "colab": {
          "base_uri": "https://localhost:8080/"
        },
        "id": "M83Q5XXTayz_",
        "outputId": "84b20779-36ec-440a-952a-3ab4924264e9"
      },
      "execution_count": null,
      "outputs": [
        {
          "output_type": "stream",
          "name": "stdout",
          "text": [
            "/bin/bash: /usr/local/lib/libtinfo.so.5: no version information available (required by /bin/bash)\n"
          ]
        }
      ]
    },
    {
      "cell_type": "code",
      "source": [
        "!chmod 755 -R /content/vina_split"
      ],
      "metadata": {
        "colab": {
          "base_uri": "https://localhost:8080/"
        },
        "id": "vyPT13CJltrf",
        "outputId": "5dfbd49d-7a63-4b6f-ec7f-7e57cb837123"
      },
      "execution_count": null,
      "outputs": [
        {
          "output_type": "stream",
          "name": "stdout",
          "text": [
            "/bin/bash: /usr/local/lib/libtinfo.so.5: no version information available (required by /bin/bash)\n"
          ]
        }
      ]
    },
    {
      "cell_type": "code",
      "source": [
        "%vina_split"
      ],
      "metadata": {
        "colab": {
          "base_uri": "https://localhost:8080/"
        },
        "id": "q4oeYCdUmM7O",
        "outputId": "70e3c668-6804-4ca9-bb22-6da9107984cd"
      },
      "execution_count": null,
      "outputs": [
        {
          "output_type": "stream",
          "name": "stdout",
          "text": [
            "/bin/bash: /usr/local/lib/libtinfo.so.5: no version information available (required by /bin/bash)\n",
            "/content/autodock_vina_new/bin/vina_split: line 1: .TH: command not found\n",
            "/content/autodock_vina_new/bin/vina_split: line 2: .SH: command not found\n",
            "/content/autodock_vina_new/bin/vina_split: line 3: syntax error near unexpected token `('\n",
            "/content/autodock_vina_new/bin/vina_split: line 3: `vina_split \\- manual page for AutoDock Vina PDBQT Split 1.1.1 (Apr 20, 2010)'\n"
          ]
        }
      ]
    },
    {
      "cell_type": "code",
      "source": [
        "%vina"
      ],
      "metadata": {
        "colab": {
          "base_uri": "https://localhost:8080/"
        },
        "id": "WXK42fRRZtyT",
        "outputId": "59920229-1f07-41ae-ecc9-94c2260dd32c"
      },
      "execution_count": null,
      "outputs": [
        {
          "output_type": "stream",
          "name": "stdout",
          "text": [
            "/bin/bash: /usr/local/lib/libtinfo.so.5: no version information available (required by /bin/bash)\n",
            "AutoDock Vina v1.2.3\n",
            "#################################################################\n",
            "# If you used AutoDock Vina in your work, please cite:          #\n",
            "#                                                               #\n",
            "# J. Eberhardt, D. Santos-Martins, A. F. Tillack, and S. Forli  #\n",
            "# AutoDock Vina 1.2.0: New Docking Methods, Expanded Force      #\n",
            "# Field, and Python Bindings, J. Chem. Inf. Model. (2021)       #\n",
            "# DOI 10.1021/acs.jcim.1c00203                                  #\n",
            "#                                                               #\n",
            "# O. Trott, A. J. Olson,                                        #\n",
            "# AutoDock Vina: improving the speed and accuracy of docking    #\n",
            "# with a new scoring function, efficient optimization and       #\n",
            "# multithreading, J. Comp. Chem. (2010)                         #\n",
            "# DOI 10.1002/jcc.21334                                         #\n",
            "#                                                               #\n",
            "# Please see https://github.com/ccsb-scripps/AutoDock-Vina for  #\n",
            "# more information.                                             #\n",
            "#################################################################\n",
            "\n",
            "\n",
            "Input:\n",
            "  --receptor arg             rigid part of the receptor (PDBQT)\n",
            "  --flex arg                 flexible side chains, if any (PDBQT)\n",
            "  --ligand arg               ligand (PDBQT)\n",
            "  --batch arg                batch ligand (PDBQT)\n",
            "  --scoring arg (=vina)      scoring function (ad4, vina or vinardo)\n",
            "\n",
            "Search space (required):\n",
            "  --maps arg                 affinity maps for the autodock4.2 (ad4) or vina \n",
            "                             scoring function\n",
            "  --center_x arg             X coordinate of the center (Angstrom)\n",
            "  --center_y arg             Y coordinate of the center (Angstrom)\n",
            "  --center_z arg             Z coordinate of the center (Angstrom)\n",
            "  --size_x arg               size in the X dimension (Angstrom)\n",
            "  --size_y arg               size in the Y dimension (Angstrom)\n",
            "  --size_z arg               size in the Z dimension (Angstrom)\n",
            "  --autobox                  set maps dimensions based on input ligand(s) (for \n",
            "                             --score_only and --local_only)\n",
            "\n",
            "Output (optional):\n",
            "  --out arg                  output models (PDBQT), the default is chosen based\n",
            "                             on the ligand file name\n",
            "  --dir arg                  output directory for batch mode\n",
            "  --write_maps arg           output filename (directory + prefix name) for \n",
            "                             maps. Option --force_even_voxels may be needed to \n",
            "                             comply with .map format\n",
            "\n",
            "Misc (optional):\n",
            "  --cpu arg (=0)             the number of CPUs to use (the default is to try \n",
            "                             to detect the number of CPUs or, failing that, use\n",
            "                             1)\n",
            "  --seed arg (=0)            explicit random seed\n",
            "  --exhaustiveness arg (=8)  exhaustiveness of the global search (roughly \n",
            "                             proportional to time): 1+\n",
            "  --max_evals arg (=0)       number of evaluations in each MC run (if zero, \n",
            "                             which is the default, the number of MC steps is \n",
            "                             based on heuristics)\n",
            "  --num_modes arg (=9)       maximum number of binding modes to generate\n",
            "  --min_rmsd arg (=1)        minimum RMSD between output poses\n",
            "  --energy_range arg (=3)    maximum energy difference between the best binding\n",
            "                             mode and the worst one displayed (kcal/mol)\n",
            "  --spacing arg (=0.375)     grid spacing (Angstrom)\n",
            "  --verbosity arg (=1)       verbosity (0=no output, 1=normal, 2=verbose)\n",
            "\n",
            "Configuration file (optional):\n",
            "  --config arg               the above options can be put here\n",
            "\n",
            "Information (optional):\n",
            "  --help                     display usage summary\n",
            "  --help_advanced            display usage summary with advanced options\n",
            "  --version                  display program version\n",
            "ERROR: The receptor or affinity maps must be specified.\n"
          ]
        }
      ]
    },
    {
      "cell_type": "code",
      "source": [
        "%vina --receptor /content/single-dock/1HSG_prot.pdbqt --ligand /content/single-dock/indinavir.pdbqt --config /content/grid.txt --exhaustiveness=8 --out 1HSG_ligand_vina_out.pdbqt"
      ],
      "metadata": {
        "colab": {
          "base_uri": "https://localhost:8080/"
        },
        "id": "OvzHpmTkfuhm",
        "outputId": "08ab4c41-82e0-4ada-c51a-358f07dae4f9"
      },
      "execution_count": null,
      "outputs": [
        {
          "output_type": "stream",
          "name": "stdout",
          "text": [
            "/bin/bash: /usr/local/lib/libtinfo.so.5: no version information available (required by /bin/bash)\n",
            "AutoDock Vina v1.2.3\n",
            "#################################################################\n",
            "# If you used AutoDock Vina in your work, please cite:          #\n",
            "#                                                               #\n",
            "# J. Eberhardt, D. Santos-Martins, A. F. Tillack, and S. Forli  #\n",
            "# AutoDock Vina 1.2.0: New Docking Methods, Expanded Force      #\n",
            "# Field, and Python Bindings, J. Chem. Inf. Model. (2021)       #\n",
            "# DOI 10.1021/acs.jcim.1c00203                                  #\n",
            "#                                                               #\n",
            "# O. Trott, A. J. Olson,                                        #\n",
            "# AutoDock Vina: improving the speed and accuracy of docking    #\n",
            "# with a new scoring function, efficient optimization and       #\n",
            "# multithreading, J. Comp. Chem. (2010)                         #\n",
            "# DOI 10.1002/jcc.21334                                         #\n",
            "#                                                               #\n",
            "# Please see https://github.com/ccsb-scripps/AutoDock-Vina for  #\n",
            "# more information.                                             #\n",
            "#################################################################\n",
            "\n",
            "Scoring function : vina\n",
            "Rigid receptor: /content/single-dock/1HSG_prot.pdbqt\n",
            "Ligand: /content/single-dock/indinavir.pdbqt\n",
            "Grid center: X -11.026 Y -36.565 Z -4.881\n",
            "Grid size  : X 40 Y 40 Z 40\n",
            "Grid space : 0.375\n",
            "Exhaustiveness: 8\n",
            "CPU: 0\n",
            "Verbosity: 1\n",
            "\n",
            "WARNING: Search space volume is greater than 27000 Angstrom^3 (See FAQ)\n",
            "Computing Vina grid ... done.\n",
            "Performing docking (random seed: 45141830) ... \n",
            "0%   10   20   30   40   50   60   70   80   90   100%\n",
            "|----|----|----|----|----|----|----|----|----|----|\n",
            "***************************************************\n",
            "\n",
            "mode |   affinity | dist from best mode\n",
            "     | (kcal/mol) | rmsd l.b.| rmsd u.b.\n",
            "-----+------------+----------+----------\n",
            "   1      -0.1002          0          0\n",
            "   2     -0.08958      11.19      15.28\n",
            "   3     -0.08527      15.32      17.96\n",
            "   4     -0.06795      3.342       4.81\n",
            "   5     -0.03932      9.972      13.08\n",
            "   6     -0.02798      9.314      11.99\n",
            "   7     -0.02113      18.18      21.77\n",
            "   8     -0.01074      12.71      16.58\n",
            "   9            0      7.659      12.53\n"
          ]
        }
      ]
    }
  ]
}
